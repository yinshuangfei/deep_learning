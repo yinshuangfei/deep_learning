{
 "cells": [
  {
   "cell_type": "markdown",
   "id": "eacfd486",
   "metadata": {},
   "source": [
    "# 〇、总述\n",
    "\n",
    "可以使用美元符号`$...$`或双美元符号`$$...$$`来包裹你的 LaTeX 公式。\n",
    "\n",
    "这是全体实数集：$\\mathbb{R}$。\n",
    "意大利斜体字母：$\\mathit{R}$。\n",
    "\n",
    "回车、空格的使用方法如下：\n",
    "- 空格：`<br>`<br>\n",
    "- 公式内回车：`\\\\`<br>\n",
    "- 公式内空格：`\\quad`<br>\n",
    "- 公式内双空格：`\\qquad`<br>"
   ]
  },
  {
   "cell_type": "markdown",
   "id": "11d417a0",
   "metadata": {},
   "source": [
    "# 一、基本运算\n",
    "\n",
    "[Wiki](https://en.wikibooks.org/wiki/LaTeX/Mathematics)<br>\n",
    "[参考网址1](https://blog.csdn.net/zzzzzyliu/article/details/136663519)<br>\n",
    "[参考网址2](https://zhuanlan.zhihu.com/p/30521673)<br>\n",
    "[参考网址3](https://blog.csdn.net/qq_42383283/article/details/123750208)"
   ]
  },
  {
   "cell_type": "markdown",
   "id": "f303c921",
   "metadata": {},
   "source": [
    "### 1.加减乘除\n",
    "可直接使用的符号：\n",
    "```\n",
    "+ - = ! / ( ) [ ] < > | ' :\n",
    "```\n",
    "\n",
    "frac{}{}是分数的意思。\n",
    "\n",
    "$$ a + b $$\n",
    "\n",
    "$$ a - b $$\n",
    "\n",
    "$$ a * b \\quad 或 \\quad a·b \\quad 或 \\quad a \\times b $$\n",
    "\n",
    "$$ a / b \\quad 或 \\quad \\frac{a}{b} $$\n",
    "\n",
    "$$ \\pm $$\n",
    "\n",
    "$$ \\mp $$"
   ]
  },
  {
   "cell_type": "markdown",
   "id": "3ad13093",
   "metadata": {},
   "source": [
    "### 2.幂运算和对数\n",
    "\n",
    "上标用’^’，下标用’_’;\n",
    "如果上标或者下标不止一个符号，请用’{}'括起来；\n",
    "\n",
    "$$ x^{n} （幂数） $$\n",
    "$$ a^{x} （指数） $$\n",
    "$$ \\log_{a}^{b} （对数） $$\n",
    "$$ \\ln a （对数） $$"
   ]
  },
  {
   "cell_type": "markdown",
   "id": "bb0e8559",
   "metadata": {},
   "source": [
    "### 3.根号、省略号、向量、特殊符号、划线\n",
    "\n",
    "$$\\sqrt x$$\n",
    "$$\\sqrt[n]{x}$$\n",
    "$$\\sqrt x+y$$\n",
    "$$ \\dots $$\n",
    "$$ \\vec x $$\n",
    "$$ \\to $$\n",
    "$$ \\alpha $$\n",
    "$$ \\theta_i $$\n",
    "$$ a \\geq b \\quad 或 \\quad a \\ge b$$\n",
    "$$ a \\leq b \\quad 或 \\quad a \\le b$$\n",
    "$$ \\overline{\\text{adcd}} $$\n",
    "$$ \\underline{\\text{adcd}} $$"
   ]
  },
  {
   "cell_type": "markdown",
   "id": "f857acfa",
   "metadata": {},
   "source": [
    "### 4.累加、累乘\n",
    "\n",
    "$$ sum = \\sum_{i=1}^n\\frac{1}{x^2} $$\n",
    "\n",
    "$$ sum = \\prod_{i=0}^n{1 \\over {x^2}} $$"
   ]
  },
  {
   "cell_type": "markdown",
   "id": "e646d50a",
   "metadata": {},
   "source": [
    "### 5.矩阵"
   ]
  },
  {
   "cell_type": "markdown",
   "id": "09f27ea5",
   "metadata": {},
   "source": [
    "（1）无框矩阵\n",
    "\n",
    "在开头使用 `begin{matrix}`，在结尾使用 `end{matrix}`，在中间插入矩阵元素，每个元素之间插入`&`，并在每行结尾处使用`\\\\`。使用矩阵时必须声明`$`或`$$`符号。\n",
    "\n",
    "$$\n",
    "    \\begin{matrix}\n",
    "     1 & x & x^2 \\\\\n",
    "     1 & y & y^2 \\\\\n",
    "     1 & z & z^2 \\\\\n",
    "    \\end{matrix}\n",
    "$$\n",
    "\n",
    "（2）边框矩阵\n",
    "\n",
    "在开头将`matrix`替换为`pmatrix bmatrix Bmatrix vmatrix Vmatrix`，下列为五种边框矩阵：\n",
    "\n",
    "$$\\begin{pmatrix} 1 & 2 \\\\ 3 & 4 \\\\ \\end{pmatrix}$$\n",
    "\n",
    "$$\\begin{bmatrix} 1 & 2 \\\\ 3 & 4 \\\\ \\end{bmatrix}$$\n",
    "\n",
    "$$\\begin{Bmatrix} 1 & 2 \\\\ 3 & 4 \\\\ \\end{Bmatrix}$$\n",
    "\n",
    "$$\\begin{vmatrix} 1 & 2 \\\\ 3 & 4 \\\\ \\end{vmatrix}$$\n",
    "\n",
    "$$\\begin{Vmatrix} 1 & 2 \\\\ 3 & 4 \\\\ \\end{Vmatrix}$$\n",
    "\n",
    "调整间距的方式如下：\n",
    "$$\n",
    "M = \\begin{bmatrix}\n",
    "       \\frac{5}{6} & \\frac{1}{6} & 0           \\\\[0.3em]\n",
    "       \\frac{5}{6} & 0           & \\frac{1}{6} \\\\[0.3em]\n",
    "       0           & \\frac{5}{6} & \\frac{1}{6}\n",
    "     \\end{bmatrix}\n",
    "$$\n",
    "\n",
    "（3）带省略符号的矩阵\n",
    "\n",
    "使用`\\cdots`:$\\cdots$,`\\ddots`:$\\ddots$,`\\vdots`:$\\vdots$来输入省略符号。\n",
    "\n",
    "$$\n",
    "    \\begin{pmatrix}\n",
    "     1 & a_1 & a_1^2 & \\cdots & a_1^n \\\\\n",
    "     1 & a_2 & a_2^2 & \\cdots & a_2^n \\\\\n",
    "     \\vdots & \\vdots & \\vdots & \\ddots & \\vdots \\\\\n",
    "     1 & a_m & a_m^2 & \\cdots & a_m^n \\\\\n",
    "    \\end{pmatrix}\n",
    "$$\n",
    "\n",
    "（4）带分割符号的矩阵\n",
    "\n",
    "$$\n",
    "\\left[\n",
    "    \\begin{array}{cc|c}\n",
    "         1 & 2 & 3 \\\\\n",
    "         4 & 5 & 6\n",
    "    \\end{array}\n",
    "\\right]\n",
    "$$\n",
    "\n",
    "$$\n",
    "    \\begin{array}{c|c}\n",
    "         1 & 2 \\\\ \n",
    "         \\hline\n",
    "         3 & 4\n",
    "    \\end{array}\n",
    "$$\n",
    "\n",
    "（5）行中矩阵\n",
    "\n",
    "若想在一行内显示矩阵，使用：$\\bigl(\\begin{smallmatrix}  1 & 2 \\\\ 3 & 4 \\end{smallmatrix}\\bigr)$\n",
    "\n"
   ]
  },
  {
   "cell_type": "markdown",
   "id": "6a6aed24",
   "metadata": {},
   "source": [
    "### 6.极限运算\n",
    "\n",
    "使用 `\\lim_{变量 \\to 表达式} 表达式` 来输入一个极限。如有需求，可以更改 \\to 符号至任意符号。\n",
    "\n",
    "$$ \\lim_{n \\to +\\infty} \\frac{1}{n(n+1)} \\quad and \\quad \\lim_{x\\leftarrow{示例}} \\frac{1}{n(n+1)} $$"
   ]
  },
  {
   "cell_type": "markdown",
   "id": "46dfe406",
   "metadata": {},
   "source": [
    "### 7.希腊字母\n",
    "\n",
    "输入`\\小写希腊字母英文全称`和`\\首字母大写希腊字母英文全称`来分别输入小写和大写希腊字母。\n",
    "对于大写希腊字母与现有字母相同的，直接输入大写字母即可。部分字母有变量专用形式，以`\\var-`开头。\n",
    "\n",
    "![希腊字母](images/alpha.png)\n",
    "\n",
    "部分字母有变量专用形式，以 \\var- 开头。\n",
    "\n",
    "![希腊字母变体](images/alpha-var.png)"
   ]
  },
  {
   "cell_type": "markdown",
   "id": "92473c39",
   "metadata": {},
   "source": [
    "### 8.竖线（绝对值）\n",
    "\n",
    "$$ \\mid \\mid abc \\mid \\mid $$\n",
    "\n",
    "$$\n",
    "\\Bigg\\lvert a\n",
    "\\bigg\\lvert b\n",
    "\\Big\\lvert c\n",
    "\\big\\lvert d\n",
    "\\lvert e\n",
    "$$"
   ]
  },
  {
   "cell_type": "markdown",
   "id": "dc7ee646",
   "metadata": {},
   "source": [
    "### 9.二项式\n",
    "\n",
    "$$\\frac{n!}{k!(n-k)!} = \\binom{n}{k}$$"
   ]
  },
  {
   "cell_type": "markdown",
   "id": "15dd4d40",
   "metadata": {},
   "source": [
    "# 二、符号集合"
   ]
  },
  {
   "cell_type": "markdown",
   "id": "c9400e6f",
   "metadata": {},
   "source": [
    "### 0.点\n",
    "\n",
    "$$ \\dots $$\n",
    "\n",
    "$$ \\ldots $$\n",
    "\n",
    "$$ \\cdots $$\n",
    "\n",
    "$$ \\vdots $$\n",
    "\n",
    "$$ \\ddots $$"
   ]
  },
  {
   "cell_type": "markdown",
   "id": "086c24e5",
   "metadata": {},
   "source": [
    "### 1.关系符号\n",
    "\n",
    "$$ < > = \\parallel \\nparallel \\leq \\geq \\doteq \\asymp \\bowtie $$\n",
    "\n",
    "$$ \\ll \\gg \\equiv \\vdash \\dashv  $$\n",
    "\n",
    "$$ \\subset \\supset \\approx \\in \\in \\subseteq \\supseteq \\cong \\smile \\frown \\nsubseteq \\nsupseteq \\simeq \\simeq \\notin \\sqsubset \\sqsupset \\sim \\perp \\mid \\sqsubseteq \\sqsupseteq $$\n",
    "\n",
    "$$ \\propto \\prec \\prec \\preceq \\succeq \\neq \\sphericalangle \\measuredangle $$\n",
    "\n",
    "$$ \\because $$\n",
    "\n",
    "$$ \\therefore $$"
   ]
  },
  {
   "cell_type": "markdown",
   "id": "1cac18b4",
   "metadata": {},
   "source": [
    "### 2.二进制运算\n",
    "\n",
    "$$ \\pm \\mp \\times \\div \\ast \\star \\dagger \\ddagger $$\n",
    "\n",
    "$$ \\cap \\cup \\uplus \\sqcap \\sqcup \\vee \\wedge \\cdot $$\n",
    "\n",
    "$$ \\diamond \\bigtriangleup \\bigtriangledown \\triangleleft \\triangleright \\bigcirc \\bullet \\quad \\wr $$\n",
    "\n",
    "$$ \\oplus \\ominus \\otimes \\oslash \\odot \\circ \\setminus \\amalg $$\n"
   ]
  },
  {
   "cell_type": "markdown",
   "id": "8ff6f433",
   "metadata": {},
   "source": [
    "### 3.集合和/或逻辑符号\n",
    "\n",
    "$$ \\exists \\nexists \\forall $$\n",
    "\n",
    "$$ \\neg \\cap \\cup \\subset \\supset $$\n",
    "\n",
    "$$ \\in \\notin \\ni \\land \\lor \\angle $$\n",
    "\n",
    "$$ \\rightarrow or \\to $$\n",
    "\n",
    "$$ \\leftarrow or \\gets $$\n",
    "\n",
    "$$ \\Rightarrow or \\implies $$\n",
    "\n",
    "$$ \\mapsto \\impliedby $$\n",
    "\n",
    "$$ \\leftrightarrow \\iff \\Leftrightarrow $$\n",
    "\n",
    "$$ \\top \\bot $$\n",
    "\n",
    "$$ \\emptyset and \\varnothing $$\n",
    "\n",
    "$$ \\rightleftharpoons $$"
   ]
  },
  {
   "cell_type": "markdown",
   "id": "d904eedb",
   "metadata": {},
   "source": [
    "### 4.分隔符\n",
    "\n",
    "$$ | or \\mid $$\n",
    "\n",
    "$$ \\| / \\backslash $$\n",
    "\n",
    "$$ \\{ \\} \\langle \\rangle $$\n",
    "\n",
    "$$ \\uparrow \\downarrow $$\n",
    "\n",
    "$$ \\Uparrow \\Downarrow $$\n",
    "\n",
    "$$ \\lceil \\quad \\rceil $$\n",
    "\n",
    "$$ \\lfloor \\quad \\rfloor $$"
   ]
  },
  {
   "cell_type": "markdown",
   "id": "50b16829",
   "metadata": {},
   "source": [
    "### 5.其他符号\n",
    "\n",
    "$$ \\partial \\eth \\hbar $$\n",
    "\n",
    "$$ \\imath \\jmath \\ell $$\n",
    "\n",
    "$$ \\Re \\Im \\wp $$\n",
    "\n",
    "$$ \\nabla \\Box \\infty $$\n",
    "\n",
    "$$ \\aleph \\beth \\gimel $$"
   ]
  },
  {
   "cell_type": "markdown",
   "id": "46ea3a73",
   "metadata": {},
   "source": [
    "### 6.三角函数\n",
    "\n",
    "$$ \\sin \\cos \\tan \\cot $$\n",
    "\n",
    "$$ \\arcsin \\arccos \\arctan \\arccot $$\n",
    "\n",
    "$$ \\sinh \\cosh \\tanh \\coth $$\n",
    "\n",
    "$$ \\sec \\csc $$"
   ]
  },
  {
   "cell_type": "markdown",
   "id": "81676510",
   "metadata": {},
   "source": [
    "# 三、微积分"
   ]
  },
  {
   "cell_type": "markdown",
   "id": "1c8ed153",
   "metadata": {},
   "source": [
    "### 1.导数"
   ]
  },
  {
   "cell_type": "markdown",
   "id": "320b8dd4",
   "metadata": {},
   "source": [
    "### 2.求和和积分（sums and integrals）\n",
    "（1）求和\n",
    "$$ \\sum_{i=1}^{10} t_i $$\n",
    "\n",
    "也可以写作：`$$ \\displaystyle \\sum_{i=1}^{10} t_i $$`\n",
    "\n",
    "（2）积分\n",
    "\n",
    "使用 `$$\\int_积分下限^积分上限 {被积表达式}$$ `来输入一个积分。\n",
    "\n",
    "$$ \\int_0^\\infty \\mathrm{e}^{-x}\\,\\mathrm{d}x $$\n",
    "\n",
    "求和和积分的符号如下：\n",
    "\n",
    "$$ \\sum $$\n",
    "\n",
    "$$ \\prod $$\n",
    "\n",
    "$$ \\coprod $$\n",
    "\n",
    "$$ \\int $$\n",
    "\n",
    "$$ \\oint $$\n",
    "\n",
    "$$ \\iint $$\n",
    "\n",
    "$$ \\iiint $$\n",
    "\n",
    "$$ \\iiiint $$\n",
    "\n",
    "$$ \\idotsint $$\n",
    "\n",
    "$$ \\sum_{\\substack{\n",
    "   0<i<m \\\\\n",
    "   0<j<n\n",
    "  }} \n",
    " P(i,j) \n",
    "$$\n",
    "\n",
    "$$ \\int\\limits_a^b $$"
   ]
  },
  {
   "cell_type": "markdown",
   "id": "f8ee9f04",
   "metadata": {},
   "source": [
    "# 四、概率与信息论"
   ]
  },
  {
   "cell_type": "markdown",
   "id": "79884e30",
   "metadata": {},
   "source": [
    "### 1.概率分布"
   ]
  },
  {
   "cell_type": "markdown",
   "id": "471a3876",
   "metadata": {},
   "source": [
    "### 2.数学期望与方差"
   ]
  },
  {
   "cell_type": "markdown",
   "id": "3a71652b",
   "metadata": {},
   "source": [
    "### 3.熵与KL散度"
   ]
  },
  {
   "cell_type": "markdown",
   "id": "6a4d501f",
   "metadata": {},
   "source": [
    "# 五、特殊符号与结构"
   ]
  },
  {
   "cell_type": "markdown",
   "id": "87a13710",
   "metadata": {},
   "source": [
    "### 1.函数和大括号\n",
    "函数：\n",
    "$$ f(n)=\n",
    "    \\begin{cases}\n",
    "    n/2       & \\quad \\text{if } n \\text{ is even}\\\\\n",
    "    -(n+1)/2  & \\quad \\text{if } n \\text{ is odd}\n",
    "    \\end{cases}\n",
    "$$\n",
    "\n",
    "方法一：\n",
    "$$ f(x)=\\left\\{\n",
    "    \\begin{aligned}\n",
    "    x & = & \\cos(t) \\\\\n",
    "    y & = & \\sin(t) \\\\\n",
    "    z & = & \\frac xy\n",
    "    \\end{aligned}\n",
    "\\right.\n",
    "$$\n",
    "\n",
    "方法二：\n",
    "$$ F=\\left\\{\n",
    "    \\begin{array}{rcl}\n",
    "    F_L       &      & {0  < S_L}\\\\\n",
    "    F^*_L      &      & {S_L \\leq 0 < S_M}\\\\\n",
    "    F^*_R      &      & {S_M \\leq 0 < S_R}\\\\\n",
    "    F_R       &      & {S_R \\leq 0}\n",
    "    \\end{array} \n",
    "\\right.\n",
    "$$\n",
    "\n",
    "方法三:\n",
    "$$f(x)=\n",
    "    \\begin{cases}\n",
    "    0& \\text{x=0}\\\\\n",
    "    1& \\text{x!=0}\n",
    "    \\end{cases}\n",
    "$$"
   ]
  },
  {
   "cell_type": "markdown",
   "id": "0b23706a",
   "metadata": {},
   "source": [
    "### 2.括号和分隔符\n",
    "\n",
    "$$ ( a ), [ b ], \\{ c \\}, | d |, \\| e \\|,\n",
    "\\langle f \\rangle, \\lfloor g \\rfloor,\n",
    "\\lceil h \\rceil, \\ulcorner i \\urcorner,\n",
    "/ j \\backslash $$"
   ]
  },
  {
   "cell_type": "markdown",
   "id": "a57a3219",
   "metadata": {},
   "source": [
    "### 3.自动调整大小\n",
    "\n",
    "$$ \\left(\\frac{x^2}{y^3}\\right) $$\n",
    "\n",
    "$$ P\\left(A=2\\middle|\\frac{A^2}{B}>4\\right) $$\n",
    "\n",
    "$$ \\left\\{\\frac{x^2}{y^3}\\right\\} $$\n",
    "\n",
    "$$ \\left.\\frac{x^3}{3}\\right|_0^1 $$"
   ]
  },
  {
   "cell_type": "markdown",
   "id": "200e100d",
   "metadata": {},
   "source": [
    "### 4.手动调整大小\n",
    "\n",
    "$$ ( \\big( \\Big( \\bigg( \\Bigg( $$\n",
    "\n",
    "$$ \\frac{\\mathrm d}{\\mathrm d x} \\left( k g(x) \\right) $$\n",
    "\n",
    "$$ \\frac{\\mathrm d}{\\mathrm d x} \\big( k g(x) \\big) $$"
   ]
  },
  {
   "cell_type": "markdown",
   "id": "98664e47",
   "metadata": {},
   "source": [
    "### 5.等式中加入文字\n",
    "\n",
    "$$ 50 \\text{ apples} \\times 100 \\text{ apples} = \\text{lots of apples}^2 $$\n",
    "\n",
    "格式化字符：\n",
    "$$ 50 \\textrm{ apples} \\times 100 \\textbf{ apples} = \\textit{lots of apples}^2 $$\n",
    "\n",
    "其他格式如下：\n",
    "$$ {ABCDabcd1234} $$\n",
    "\n",
    "$$ \\mathrm{ABCDabcd1234} $$\n",
    "\n",
    "$$ \\mathit{ABCDabcd1234} $$\n",
    "\n",
    "$$ \\mathbf{ABCDabcd1234} $$\n",
    "\n",
    "$$ \\mathsf{ABCDabcd1234} $$\n",
    "\n",
    "$$ \\mathtt{ABCDabcd1234} $$\n",
    "\n",
    "$$ \\mathfrak{ABCDabcd1234} $$\n",
    "\n",
    "$$ \\mathcal{ABCDabcd1234} $$\n",
    "\n",
    "$$ \\mathbb{ABCDabcd1234} $$\n",
    "\n",
    "$$ \\mathscr{ABCDabcd1234} $$\n",
    "\n",
    "加粗小写希腊字符：\n",
    "$$ \\boldsymbol{\\beta} = (\\beta_1,\\beta_2,\\dotsc,\\beta_n) $$"
   ]
  },
  {
   "cell_type": "markdown",
   "id": "b06dac4e",
   "metadata": {},
   "source": [
    "### 6.重音符号\n",
    "\n",
    "$$ a' \\quad 或 \\quad a^{\\prime} $$\n",
    "\n",
    "$$ a'' \\quad a''' \\quad a''''$$\n",
    "\n",
    "$$ \\hat{a} \\quad \\bar{a} \\quad \\grave{a} \\quad \\acute{a} $$\n",
    "\n",
    "$$ \\not{a} \\quad \\mathring{a}$$\n",
    "\n",
    "$$ \\overrightarrow{AB} \\quad \\overleftarrow{AB}$$\n",
    "\n",
    "$$ \\overline{aaa} $$\n",
    "\n",
    "$$ \\check{a} \\quad \\breve{a} \\quad \\vec{a}$$\n",
    "\n",
    "$$ \\dot{a} \\quad \\ddot{a} \\quad \\dddot{a} \\quad \\ddddot{a}$$\n",
    "\n",
    "$$ \\widehat{AAA} \\quad \\widetilde{AAA} \\quad \\stackrel\\frown{AAA}$$\n",
    "\n",
    "$$ \\tilde{a} \\quad \\underline{a}$$"
   ]
  },
  {
   "cell_type": "markdown",
   "id": "64e5aaf8",
   "metadata": {},
   "source": [
    "### 7.颜色\n",
    "\n",
    "$$ k = {\\color{red}x} \\mathbin{\\color{blue}-} 2 $$\n"
   ]
  }
 ],
 "metadata": {
  "kernelspec": {
   "display_name": "Python 3 (ipykernel)",
   "language": "python",
   "name": "python3"
  },
  "language_info": {
   "codemirror_mode": {
    "name": "ipython",
    "version": 3
   },
   "file_extension": ".py",
   "mimetype": "text/x-python",
   "name": "python",
   "nbconvert_exporter": "python",
   "pygments_lexer": "ipython3",
   "version": "3.7.1"
  }
 },
 "nbformat": 4,
 "nbformat_minor": 5
}
