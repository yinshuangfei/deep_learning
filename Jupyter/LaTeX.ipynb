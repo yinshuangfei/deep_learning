{
 "cells": [
  {
   "cell_type": "raw",
   "id": "9e2ebf30",
   "metadata": {},
   "source": [
    "可以使用美元符号（$$）或双美元符号（$$）来包裹你的 LaTeX 公式。"
   ]
  },
  {
   "cell_type": "markdown",
   "id": "87461d93",
   "metadata": {},
   "source": [
    "这是一个行内公式：$E = mc^2$。"
   ]
  },
  {
   "cell_type": "markdown",
   "id": "57c3e5f9",
   "metadata": {},
   "source": [
    "这是一个块级公式：\n",
    "$$\n",
    "E = mc^2\n",
    "$$"
   ]
  },
  {
   "cell_type": "markdown",
   "id": "933f8654",
   "metadata": {},
   "source": [
    "这是一个分数：$\\frac{a}{b}$，和一个根号：$\\sqrt{x}$。"
   ]
  },
  {
   "cell_type": "markdown",
   "id": "058e668f",
   "metadata": {},
   "source": [
    "这是一个积分：$\\int_{a}^{b} f(x) \\, dx$，和一个求和：$\\sum_{i=1}^{n} i$。"
   ]
  },
  {
   "cell_type": "markdown",
   "id": "d1e6e98d",
   "metadata": {},
   "source": [
    "这是一个矩阵：\n",
    "$$\n",
    "\\begin{pmatrix}\n",
    "a & b \\\\\n",
    "c & d\n",
    "\\end{pmatrix}\n",
    "$$"
   ]
  },
  {
   "cell_type": "markdown",
   "id": "6450d0fb",
   "metadata": {},
   "source": [
    "这是全体实数集：$\\mathbb{R}$。\n",
    "意大利斜体字母：$\\mathit{R}$。"
   ]
  },
  {
   "cell_type": "markdown",
   "id": "c5fed3dc",
   "metadata": {},
   "source": [
    "<br><br><br><br><br>"
   ]
  },
  {
   "cell_type": "markdown",
   "id": "11d417a0",
   "metadata": {},
   "source": [
    "# 一、基本运算\n",
    "\n",
    "[Wiki](https://en.wikibooks.org/wiki/LaTeX/Mathematics)\n",
    "[参考网址1](https://blog.csdn.net/zzzzzyliu/article/details/136663519)\n",
    "[参考网址2](https://zhuanlan.zhihu.com/p/30521673)\n",
    "[3](https://blog.csdn.net/qq_42383283/article/details/123750208)"
   ]
  },
  {
   "cell_type": "markdown",
   "id": "f303c921",
   "metadata": {},
   "source": [
    "### 1.加减乘除"
   ]
  },
  {
   "cell_type": "markdown",
   "id": "1eab8225",
   "metadata": {},
   "source": [
    "$$a+b$$\n",
    "\n",
    "$$a-b$$\n",
    "\n",
    "$a×b$ 或  $a·b$\n",
    "\n",
    "$$a/b$$"
   ]
  },
  {
   "cell_type": "markdown",
   "id": "3ad13093",
   "metadata": {},
   "source": [
    "### 2.幂运算和对数"
   ]
  },
  {
   "cell_type": "markdown",
   "id": "15dd4d40",
   "metadata": {},
   "source": [
    "# 二、集合与函数"
   ]
  },
  {
   "cell_type": "markdown",
   "id": "086c24e5",
   "metadata": {},
   "source": [
    "### 1.集合论"
   ]
  },
  {
   "cell_type": "markdown",
   "id": "1cac18b4",
   "metadata": {},
   "source": [
    "### 2.函数"
   ]
  },
  {
   "cell_type": "markdown",
   "id": "81676510",
   "metadata": {},
   "source": [
    "# 三、微积分"
   ]
  },
  {
   "cell_type": "markdown",
   "id": "1c8ed153",
   "metadata": {},
   "source": [
    "### 1.导数"
   ]
  },
  {
   "cell_type": "markdown",
   "id": "320b8dd4",
   "metadata": {},
   "source": [
    "### 2.积分"
   ]
  },
  {
   "cell_type": "markdown",
   "id": "f8ee9f04",
   "metadata": {},
   "source": [
    "# 四、概率与信息论"
   ]
  },
  {
   "cell_type": "markdown",
   "id": "79884e30",
   "metadata": {},
   "source": [
    "### 1.概率分布"
   ]
  },
  {
   "cell_type": "markdown",
   "id": "471a3876",
   "metadata": {},
   "source": [
    "### 2.数学期望与方差"
   ]
  },
  {
   "cell_type": "markdown",
   "id": "3a71652b",
   "metadata": {},
   "source": [
    "### 3.熵与KL散度"
   ]
  },
  {
   "cell_type": "markdown",
   "id": "6a4d501f",
   "metadata": {},
   "source": [
    "# 五、特殊符号与结构"
   ]
  },
  {
   "cell_type": "markdown",
   "id": "60edcbf1",
   "metadata": {},
   "source": [
    "查全率（Recall）\n",
    "$$Recall(\\%) = \\frac{True\\ positive}{(True\\ positive + False\\ negative)} \\times 100$$"
   ]
  },
  {
   "cell_type": "markdown",
   "id": "4c51f8f3",
   "metadata": {},
   "source": [
    "查准率（Precision）\n",
    "$$Precision(\\%) = \\frac{True\\ positive}{(True\\ positive + False\\ positive)} \\times 100$$"
   ]
  },
  {
   "cell_type": "markdown",
   "id": "60052d8e",
   "metadata": {},
   "source": [
    "查全率（Recall）\n",
    "$$Recall(\\%) = \\frac{True\\ positive}{(True\\ positive + False\\ negative)} \\times 100$$"
   ]
  },
  {
   "cell_type": "markdown",
   "id": "23ff04cc",
   "metadata": {},
   "source": [
    "F1-Score<br>\n",
    "F1-Score 是查准率和查全率的调和平均数，用于综合衡量分类器的性能。\n",
    "$$F1-Score = \\frac{2}{\\frac{1}{Precision} + \\frac{1}{Recall}}$$\n",
    "或\n",
    "$$F1 = 2 \\cdot \\frac{Precision \\cdot Recall}{Precision + Recall}$$"
   ]
  },
  {
   "cell_type": "markdown",
   "id": "180d91c9",
   "metadata": {},
   "source": [
    "Softmax 函数<br>\n",
    "Softmax 函数常用于多分类问题的输出层，将原始输出转换为概率分布。其公式为：\n",
    "$$softmax(x)_i = \\frac{e^{x_i}}{\\sum_{j} e^{x_j}}$$"
   ]
  },
  {
   "cell_type": "markdown",
   "id": "2fd199ca",
   "metadata": {},
   "source": [
    "Sigmoid 函数<br>\n",
    "Sigmoid 函数常用于二分类问题的输出层，将输入映射到 (0, 1) 区间内。其公式为：\n",
    "$$\\sigma(x) = \\frac{1}{1 + e^{-x}}$$"
   ]
  },
  {
   "cell_type": "markdown",
   "id": "b275d20a",
   "metadata": {},
   "source": [
    "交叉熵损失函数（Cross-Entropy Loss）<br>\n",
    "交叉熵损失函数常用于衡量分类问题的预测结果与真实标签之间的差异。其公式为：\n",
    "$$CE(y, \\hat{y}) = - \\sum_{i} y_i \\log(\\hat{y}_i)$$\n",
    "其中，${y}$ 是真实标签，$\\hat{y}$ 是预测概率。"
   ]
  },
  {
   "cell_type": "markdown",
   "id": "0ee24c64",
   "metadata": {},
   "source": [
    "梯度计算<br>\n",
    "在深度学习中，梯度下降算法常用于优化模型参数。梯度计算是梯度下降算法的关键步骤之一。以交叉熵损失函数为例，其对模型参数 ${\\theta}$ 的梯度为：\n",
    "$$\\frac{\\partial CE(y, \\hat{y})}{\\partial \\theta}$$"
   ]
  }
 ],
 "metadata": {
  "kernelspec": {
   "display_name": "Python 3 (ipykernel)",
   "language": "python",
   "name": "python3"
  },
  "language_info": {
   "codemirror_mode": {
    "name": "ipython",
    "version": 3
   },
   "file_extension": ".py",
   "mimetype": "text/x-python",
   "name": "python",
   "nbconvert_exporter": "python",
   "pygments_lexer": "ipython3",
   "version": "3.7.1"
  }
 },
 "nbformat": 4,
 "nbformat_minor": 5
}
